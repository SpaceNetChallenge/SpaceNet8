{
 "cells": [
  {
   "cell_type": "code",
   "execution_count": null,
   "id": "3444ea12",
   "metadata": {},
   "outputs": [],
   "source": [
    "\"\"\" get percentage of each flood class in the labeled dataset \"\"\"\n",
    "\n",
    "import numpy as np\n",
    "\n",
    "from datasets.datasets import SN8Dataset\n",
    "\n",
    "input_csv = \"\"\n",
    "\n",
    "dataset = SN8Dataset(input_csv,\n",
    "                     data_to_load=[\"preimg\",\"postimg\", \"building\", \"road\", \"roadspeed\", \"flood\"],\n",
    "                     img_size=(1300,1300))\n",
    "batch_size=1\n",
    "dataloader = torch.utils.data.DataLoader(dataset, batch_size=batch_size)\n",
    "\n",
    "flood_labels = {0:\"non-flooded building\", 1:\"flooded building\", 2:\"non-flooded road\", 3:\"flooded road\",4:\"background\"}\n",
    "flood_hist = {0:0,1:0,2:0,3:0,4:0}\n",
    "\n",
    "for i, data in enumerate(dataloader):\n",
    "    preimg, postimg, building, road, roadspeed, flood = data # data from here is shape (batch_size, channels, height, width)\n",
    "    # preimg, postimg are shape=(batch_size, 3, h, w)\n",
    "    # building labels are shape=(batch_size, 1, h, w)\n",
    "    # road labels are shape=(batch_size, 1, h, w)\n",
    "    # roadspeed labels are shape=(batch_size, 8, h, w)\n",
    "    # flood labels are shape=(batch_size, 4, h, w)\n",
    "\n",
    "    preimg = preimg.cpu().numpy()[0]\n",
    "    postimg = postimg.cpu().numpy()[0]\n",
    "    flood = flood.cpu().numpy()[0]\n",
    "    building = building.cpu().numpy()[0]\n",
    "    road = road.cpu().numpy()[0]\n",
    "    roadspeed = roadspeed.cpu().numpy()[0]\n",
    "\n",
    "    flood_shape = flood.shape # (4, H, W).\n",
    "    total_pixs = flood.shape[1]*flood_shape[2]\n",
    "    this_samp_total = 0\n",
    "    for j in range(len(flood)):\n",
    "        flood_hist[j] += np.sum(flood[j])\n",
    "        this_samp_total += np.sum(flood[j])\n",
    "    flood_hist[4] += total_pixs - this_samp_total\n",
    "    print(i+1, end=\"\\r\")\n",
    "\n",
    "print()\n",
    "\n",
    "print(\"total percentages of foreground class in the dataset (excluding background):\")\n",
    "for i in range(len(flood_hist)-1):\n",
    "    print(f\"  {flood_labels[i]}: {np.round(flood_hist[i] / (flood_hist[0] + flood_hist[1] + flood_hist[2] + flood_hist[3]) * 100, 2)} %\")"
   ]
  },
  {
   "cell_type": "code",
   "execution_count": null,
   "id": "524974a3",
   "metadata": {},
   "outputs": [],
   "source": []
  }
 ],
 "metadata": {
  "kernelspec": {
   "display_name": "Python 3 (ipykernel)",
   "language": "python",
   "name": "python3"
  },
  "language_info": {
   "codemirror_mode": {
    "name": "ipython",
    "version": 3
   },
   "file_extension": ".py",
   "mimetype": "text/x-python",
   "name": "python",
   "nbconvert_exporter": "python",
   "pygments_lexer": "ipython3",
   "version": "3.8.12"
  }
 },
 "nbformat": 4,
 "nbformat_minor": 5
}
